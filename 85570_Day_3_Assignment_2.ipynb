{
  "nbformat": 4,
  "nbformat_minor": 0,
  "metadata": {
    "colab": {
      "name": "Day 3 - Assignment - 2.ipynb",
      "provenance": []
    },
    "kernelspec": {
      "name": "python3",
      "display_name": "Python 3"
    }
  },
  "cells": [
    {
      "cell_type": "markdown",
      "metadata": {
        "id": "3uro4BG6M-et",
        "colab_type": "text"
      },
      "source": [
        "# Day 3 - Assignment 2\n"
      ]
    },
    {
      "cell_type": "code",
      "metadata": {
        "id": "TpfRDyesNMZO",
        "colab_type": "code",
        "colab": {}
      },
      "source": [
        "#PRIME NUMBERS\n",
        "n=int(input('Enter Number:'))\n",
        "print('Prime Numbers: ',end='')\n",
        "for i in range(1,n):\n",
        "    for j in range(2,i):\n",
        "        if i%j==0:\n",
        "            break\n",
        "    else:\n",
        "        print(i,end=',')"
      ],
      "execution_count": null,
      "outputs": []
    }
  ]
}