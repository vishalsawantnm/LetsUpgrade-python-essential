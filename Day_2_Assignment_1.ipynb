{
  "nbformat": 4,
  "nbformat_minor": 0,
  "metadata": {
    "colab": {
      "name": "Day 2 - Assignment - 1.ipynb",
      "provenance": []
    },
    "kernelspec": {
      "name": "python3",
      "display_name": "Python 3"
    }
  },
  "cells": [
    {
      "cell_type": "markdown",
      "metadata": {
        "id": "X5v_5TztEpAk",
        "colab_type": "text"
      },
      "source": [
        "# Day 3 - Assignment 1"
      ]
    },
    {
      "cell_type": "code",
      "metadata": {
        "id": "llfPm1xVExkm",
        "colab_type": "code",
        "colab": {
          "base_uri": "https://localhost:8080/",
          "height": 52
        },
        "outputId": "52413ff1-3d8f-4798-8206-1fd25f31a0f3"
      },
      "source": [
        "n=int(input('Enter the Altitude - '))\n",
        "if n<=1000:\n",
        "    print(\"Safe to land\")\n",
        "elif n<5000:\n",
        "    print(\"Bring down to 1000\")\n",
        "else:\n",
        "    print(\"Turn Around\")"
      ],
      "execution_count": null,
      "outputs": [
        {
          "output_type": "stream",
          "text": [
            "Enter the Altitude - 1000\n",
            "Safe to land\n"
          ],
          "name": "stdout"
        }
      ]
    },
    {
      "cell_type": "code",
      "metadata": {
        "id": "ZYBdGvfzIB9j",
        "colab_type": "code",
        "colab": {
          "base_uri": "https://localhost:8080/",
          "height": 52
        },
        "outputId": "a3670e20-2418-4c16-8358-648322b36bc9"
      },
      "source": [
        "n=int(input('Enter the Altitude - '))\n",
        "if n<=1000:\n",
        "    print(\"Safe to land\")\n",
        "elif n<5000:\n",
        "    print(\"Bring down to 1000\")\n",
        "else:\n",
        "    print(\"Turn Around\")"
      ],
      "execution_count": null,
      "outputs": [
        {
          "output_type": "stream",
          "text": [
            "Enter the Altitude - 4500\n",
            "Bring down to 1000\n"
          ],
          "name": "stdout"
        }
      ]
    },
    {
      "cell_type": "code",
      "metadata": {
        "id": "h4Y0O8xtICv0",
        "colab_type": "code",
        "colab": {
          "base_uri": "https://localhost:8080/",
          "height": 52
        },
        "outputId": "f4c61f24-87c8-4bcf-e856-21857b83297d"
      },
      "source": [
        "n=int(input('Enter the Altitude - '))\n",
        "if n<=1000:\n",
        "    print(\"Safe to land\")\n",
        "elif n<5000:\n",
        "    print(\"Bring down to 1000\")\n",
        "else:\n",
        "    print(\"Turn Around\")"
      ],
      "execution_count": null,
      "outputs": [
        {
          "output_type": "stream",
          "text": [
            "Enter the Altitude - 6000\n",
            "Turn Around\n"
          ],
          "name": "stdout"
        }
      ]
    }
  ]
}